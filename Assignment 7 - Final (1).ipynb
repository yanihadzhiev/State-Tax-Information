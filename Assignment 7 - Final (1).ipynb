{
 "cells": [
  {
   "cell_type": "markdown",
   "id": "6983f309",
   "metadata": {},
   "source": [
    "# State Tax Information\n",
    "* Purpose: Be able to display tax information for a given state and year based on user input.\n",
    "* Input: csv data from multiple files\n",
    "* Output: Statistics of data requested by user\n",
    "* Author: Yani Hadzhiev\n",
    "* Date: November 16, 2023"
   ]
  },
  {
   "cell_type": "code",
   "execution_count": null,
   "id": "77b7d283",
   "metadata": {},
   "outputs": [],
   "source": [
    "# Import pandas as alias pd\n",
    "import pandas as pd\n",
    "# Import numpy as alias np\n",
    "import numpy as np\n",
    "\n",
    "# Read the CSV files\n",
    "fy2019 = pd.read_csv('FY2019.csv')\n",
    "fy2020 = pd.read_csv('FY2020.csv')\n",
    "fy2021 = pd.read_csv('FY2021.csv')\n",
    "fy2022 = pd.read_csv('FY2022-STC-Detailed-Table.csv')\n",
    "taxCodes = pd.read_csv('taxitemcodesanddescriptions.csv')\n",
    "\n",
    "# Add a 'year' column to each dataframe\n",
    "fy2019['year'] = 2019\n",
    "fy2020['year'] = 2020\n",
    "fy2021['year'] = 2021\n",
    "fy2022['year'] = 2022\n",
    "\n",
    "# Merge tax codes with data frames\n",
    "fy2019Merged = pd.merge(fy2019, taxCodes, left_on='item', right_on='Item Code')\n",
    "fy2020Merged = pd.merge(fy2020, taxCodes, left_on='item', right_on='Item Code')\n",
    "fy2021Merged = pd.merge(fy2021, taxCodes, left_on='item', right_on='Item Code')\n",
    "fy2022Merged = pd.merge(fy2022, taxCodes, left_on='item', right_on='Item Code')\n",
    "\n",
    "# Concatenate data frames vertically\n",
    "mergedData = pd.concat([fy2019Merged, fy2020Merged, fy2021Merged, fy2022Merged], axis=0, ignore_index=False)\n",
    "# fill empty space with 0s and set the index to be Description for easier printing later\n",
    "mergedData = mergedData.fillna(0).set_index('Description')\n",
    "\n",
    "# Get user input for state abbreviation\n",
    "stateInput = input(\"Enter state abbreviation (e.g., NY) to see the tax information: \").upper()\n",
    "# Input validation if state entered by user is not valid\n",
    "while stateInput not in mergedData:\n",
    "    print('Please enter a valid abbreviation')\n",
    "    stateInput = input(\"Enter state abbreviation (e.g., NY): \").upper()\n",
    "\n",
    "# Once state abbreviation is valid, proceed to year\n",
    "yearInput = input(\"Enter the year (2019, 2020, 2021, or 2022): \").strip()\n",
    "# Input validation if year entered by user is not valid\n",
    "while yearInput not in ('2019', '2020', '2021', '2022'):\n",
    "    print ('Currently, only the data for 2019, 2020, 2021, and 2022 are available, please enter again: ')\n",
    "    yearInput = input(\"Enter the year (2019, 2020, 2021, or 2022): \").strip()\n",
    "yearInput = int(yearInput)\n",
    "\n",
    "# Filter data based on user input\n",
    "# Use masking to filter the year that only the user selected\n",
    "maskOne = mergedData['year'] == yearInput\n",
    "# Use masking to filter the state that only the user selected \n",
    "# Use notnull() to get opposite of isnull() and be able to display the 0s in the data\n",
    "maskTwo = mergedData[stateInput].notnull()\n",
    "# Use masking to filter\n",
    "finalData = mergedData[(maskOne) & (maskTwo)]\n",
    "\n",
    "# Filter out what column I need in result with the use of fancy indexing\n",
    "finalData = finalData.loc[:, [stateInput]]\n",
    "\n",
    "# Display the result\n",
    "print(finalData)"
   ]
  },
  {
   "cell_type": "code",
   "execution_count": null,
   "id": "749a529b",
   "metadata": {},
   "outputs": [],
   "source": []
  }
 ],
 "metadata": {
  "kernelspec": {
   "display_name": "Python 3 (ipykernel)",
   "language": "python",
   "name": "python3"
  },
  "language_info": {
   "codemirror_mode": {
    "name": "ipython",
    "version": 3
   },
   "file_extension": ".py",
   "mimetype": "text/x-python",
   "name": "python",
   "nbconvert_exporter": "python",
   "pygments_lexer": "ipython3",
   "version": "3.11.4"
  }
 },
 "nbformat": 4,
 "nbformat_minor": 5
}
